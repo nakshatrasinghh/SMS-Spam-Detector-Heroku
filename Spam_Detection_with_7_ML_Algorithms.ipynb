{
  "nbformat": 4,
  "nbformat_minor": 0,
  "metadata": {
    "colab": {
      "name": "Spam Detection with 7 ML Algorithms.ipynb",
      "provenance": [],
      "collapsed_sections": []
    },
    "kernelspec": {
      "name": "python3",
      "display_name": "Python 3"
    },
    "accelerator": "GPU"
  },
  "cells": [
    {
      "cell_type": "markdown",
      "metadata": {
        "id": "raQ6C5HfkIxW"
      },
      "source": [
        "##*SMS Spam Detection Using 7 Machine Learning Algorithms and Simple Bag of Words*\n",
        "\n",
        "By Nakshatra Singh"
      ]
    },
    {
      "cell_type": "markdown",
      "metadata": {
        "id": "smy5TrLukPit"
      },
      "source": [
        "###**1. Retrieve and Inspect Dataset** \n",
        "\n",
        "Let's download the dataset which is uploaded on my google drive. "
      ]
    },
    {
      "cell_type": "code",
      "metadata": {
        "id": "aULghpJiFrFX",
        "outputId": "eecf8fda-2148-443f-956c-0b2c417710d7",
        "colab": {
          "base_uri": "https://localhost:8080/",
          "height": 86
        }
      },
      "source": [
        "!gdown --id 1P-HE8p7bb9rS5HYvcIu2CXani_hM-IO7"
      ],
      "execution_count": 42,
      "outputs": [
        {
          "output_type": "stream",
          "text": [
            "Downloading...\n",
            "From: https://drive.google.com/uc?id=1P-HE8p7bb9rS5HYvcIu2CXani_hM-IO7\n",
            "To: /content/spam.csv\n",
            "\r  0% 0.00/504k [00:00<?, ?B/s]\r100% 504k/504k [00:00<00:00, 68.3MB/s]\n"
          ],
          "name": "stdout"
        }
      ]
    },
    {
      "cell_type": "markdown",
      "metadata": {
        "id": "azBacnVvkRjy"
      },
      "source": [
        "We'll use `pandas` to parse the csv files. "
      ]
    },
    {
      "cell_type": "code",
      "metadata": {
        "id": "QxbmwbmkkRS1"
      },
      "source": [
        "import pandas as pd\n",
        "df = pd.read_csv('/content/spam.csv', encoding='latin-1')"
      ],
      "execution_count": 43,
      "outputs": []
    },
    {
      "cell_type": "markdown",
      "metadata": {
        "id": "aptCtjZGkvTH"
      },
      "source": [
        "Let's take a look at the first few rows of the table just to see what's in there. "
      ]
    },
    {
      "cell_type": "code",
      "metadata": {
        "id": "UExWvb-dxm5P",
        "outputId": "0b96d8c4-de27-4a30-83fc-109e59ad28c7",
        "colab": {
          "base_uri": "https://localhost:8080/",
          "height": 201
        }
      },
      "source": [
        "df.head() "
      ],
      "execution_count": 44,
      "outputs": [
        {
          "output_type": "execute_result",
          "data": {
            "text/html": [
              "<div>\n",
              "<style scoped>\n",
              "    .dataframe tbody tr th:only-of-type {\n",
              "        vertical-align: middle;\n",
              "    }\n",
              "\n",
              "    .dataframe tbody tr th {\n",
              "        vertical-align: top;\n",
              "    }\n",
              "\n",
              "    .dataframe thead th {\n",
              "        text-align: right;\n",
              "    }\n",
              "</style>\n",
              "<table border=\"1\" class=\"dataframe\">\n",
              "  <thead>\n",
              "    <tr style=\"text-align: right;\">\n",
              "      <th></th>\n",
              "      <th>v1</th>\n",
              "      <th>v2</th>\n",
              "      <th>Unnamed: 2</th>\n",
              "      <th>Unnamed: 3</th>\n",
              "      <th>Unnamed: 4</th>\n",
              "    </tr>\n",
              "  </thead>\n",
              "  <tbody>\n",
              "    <tr>\n",
              "      <th>0</th>\n",
              "      <td>ham</td>\n",
              "      <td>Go until jurong point, crazy.. Available only ...</td>\n",
              "      <td>NaN</td>\n",
              "      <td>NaN</td>\n",
              "      <td>NaN</td>\n",
              "    </tr>\n",
              "    <tr>\n",
              "      <th>1</th>\n",
              "      <td>ham</td>\n",
              "      <td>Ok lar... Joking wif u oni...</td>\n",
              "      <td>NaN</td>\n",
              "      <td>NaN</td>\n",
              "      <td>NaN</td>\n",
              "    </tr>\n",
              "    <tr>\n",
              "      <th>2</th>\n",
              "      <td>spam</td>\n",
              "      <td>Free entry in 2 a wkly comp to win FA Cup fina...</td>\n",
              "      <td>NaN</td>\n",
              "      <td>NaN</td>\n",
              "      <td>NaN</td>\n",
              "    </tr>\n",
              "    <tr>\n",
              "      <th>3</th>\n",
              "      <td>ham</td>\n",
              "      <td>U dun say so early hor... U c already then say...</td>\n",
              "      <td>NaN</td>\n",
              "      <td>NaN</td>\n",
              "      <td>NaN</td>\n",
              "    </tr>\n",
              "    <tr>\n",
              "      <th>4</th>\n",
              "      <td>ham</td>\n",
              "      <td>Nah I don't think he goes to usf, he lives aro...</td>\n",
              "      <td>NaN</td>\n",
              "      <td>NaN</td>\n",
              "      <td>NaN</td>\n",
              "    </tr>\n",
              "  </tbody>\n",
              "</table>\n",
              "</div>"
            ],
            "text/plain": [
              "     v1  ... Unnamed: 4\n",
              "0   ham  ...        NaN\n",
              "1   ham  ...        NaN\n",
              "2  spam  ...        NaN\n",
              "3   ham  ...        NaN\n",
              "4   ham  ...        NaN\n",
              "\n",
              "[5 rows x 5 columns]"
            ]
          },
          "metadata": {
            "tags": []
          },
          "execution_count": 44
        }
      ]
    },
    {
      "cell_type": "markdown",
      "metadata": {
        "id": "D8JNeOAqkzjQ"
      },
      "source": [
        "What's the shape of the dataframe?\n",
        " "
      ]
    },
    {
      "cell_type": "code",
      "metadata": {
        "id": "PUaaZXVlkw_1",
        "outputId": "b38736ac-1fe6-4c7f-e956-8bc24e9d7860",
        "colab": {
          "base_uri": "https://localhost:8080/",
          "height": 34
        }
      },
      "source": [
        "df.shape "
      ],
      "execution_count": 45,
      "outputs": [
        {
          "output_type": "execute_result",
          "data": {
            "text/plain": [
              "(5572, 5)"
            ]
          },
          "metadata": {
            "tags": []
          },
          "execution_count": 45
        }
      ]
    },
    {
      "cell_type": "markdown",
      "metadata": {
        "id": "CpF3X298k3XG"
      },
      "source": [
        "Does the dataframe contain any null row values? "
      ]
    },
    {
      "cell_type": "code",
      "metadata": {
        "id": "4b5TlSjjk4aw",
        "outputId": "2964a3be-3b52-4930-920b-823bddcca5c3",
        "colab": {
          "base_uri": "https://localhost:8080/",
          "height": 121
        }
      },
      "source": [
        "df.isnull().sum()  "
      ],
      "execution_count": 46,
      "outputs": [
        {
          "output_type": "execute_result",
          "data": {
            "text/plain": [
              "v1               0\n",
              "v2               0\n",
              "Unnamed: 2    5522\n",
              "Unnamed: 3    5560\n",
              "Unnamed: 4    5566\n",
              "dtype: int64"
            ]
          },
          "metadata": {
            "tags": []
          },
          "execution_count": 46
        }
      ]
    },
    {
      "cell_type": "markdown",
      "metadata": {
        "id": "ATzGXebglIXo"
      },
      "source": [
        "Let's drop the Unwanted columns, and rename the columns to something we can understand."
      ]
    },
    {
      "cell_type": "code",
      "metadata": {
        "id": "L1DVr1xQk5ZQ"
      },
      "source": [
        "df = df.drop(['Unnamed: 2','Unnamed: 3','Unnamed: 4'],axis=1)\n",
        "df = df.rename(columns = {'v1':'label','v2':'message'}) "
      ],
      "execution_count": 47,
      "outputs": []
    },
    {
      "cell_type": "markdown",
      "metadata": {
        "id": "tG8ZZGWDU8uF"
      },
      "source": [
        "Let's see how the dataframe looks like."
      ]
    },
    {
      "cell_type": "code",
      "metadata": {
        "id": "2mhBJKY4k_lw",
        "outputId": "5f3fba30-319d-44d1-a918-a1b4795a0d8d",
        "colab": {
          "base_uri": "https://localhost:8080/",
          "height": 201
        }
      },
      "source": [
        "df.head() "
      ],
      "execution_count": 48,
      "outputs": [
        {
          "output_type": "execute_result",
          "data": {
            "text/html": [
              "<div>\n",
              "<style scoped>\n",
              "    .dataframe tbody tr th:only-of-type {\n",
              "        vertical-align: middle;\n",
              "    }\n",
              "\n",
              "    .dataframe tbody tr th {\n",
              "        vertical-align: top;\n",
              "    }\n",
              "\n",
              "    .dataframe thead th {\n",
              "        text-align: right;\n",
              "    }\n",
              "</style>\n",
              "<table border=\"1\" class=\"dataframe\">\n",
              "  <thead>\n",
              "    <tr style=\"text-align: right;\">\n",
              "      <th></th>\n",
              "      <th>label</th>\n",
              "      <th>message</th>\n",
              "    </tr>\n",
              "  </thead>\n",
              "  <tbody>\n",
              "    <tr>\n",
              "      <th>0</th>\n",
              "      <td>ham</td>\n",
              "      <td>Go until jurong point, crazy.. Available only ...</td>\n",
              "    </tr>\n",
              "    <tr>\n",
              "      <th>1</th>\n",
              "      <td>ham</td>\n",
              "      <td>Ok lar... Joking wif u oni...</td>\n",
              "    </tr>\n",
              "    <tr>\n",
              "      <th>2</th>\n",
              "      <td>spam</td>\n",
              "      <td>Free entry in 2 a wkly comp to win FA Cup fina...</td>\n",
              "    </tr>\n",
              "    <tr>\n",
              "      <th>3</th>\n",
              "      <td>ham</td>\n",
              "      <td>U dun say so early hor... U c already then say...</td>\n",
              "    </tr>\n",
              "    <tr>\n",
              "      <th>4</th>\n",
              "      <td>ham</td>\n",
              "      <td>Nah I don't think he goes to usf, he lives aro...</td>\n",
              "    </tr>\n",
              "  </tbody>\n",
              "</table>\n",
              "</div>"
            ],
            "text/plain": [
              "  label                                            message\n",
              "0   ham  Go until jurong point, crazy.. Available only ...\n",
              "1   ham                      Ok lar... Joking wif u oni...\n",
              "2  spam  Free entry in 2 a wkly comp to win FA Cup fina...\n",
              "3   ham  U dun say so early hor... U c already then say...\n",
              "4   ham  Nah I don't think he goes to usf, he lives aro..."
            ]
          },
          "metadata": {
            "tags": []
          },
          "execution_count": 48
        }
      ]
    },
    {
      "cell_type": "markdown",
      "metadata": {
        "id": "WIWdLwsZEvd4"
      },
      "source": [
        "Let's drop the duplicate rows present in the dataset."
      ]
    },
    {
      "cell_type": "code",
      "metadata": {
        "id": "oqMl_hTLEwva"
      },
      "source": [
        "df.drop_duplicates(subset =\"message\", keep = False, inplace = True) "
      ],
      "execution_count": 49,
      "outputs": []
    },
    {
      "cell_type": "markdown",
      "metadata": {
        "id": "XiDJnM-GVOsh"
      },
      "source": [
        "Did the data points reduce?"
      ]
    },
    {
      "cell_type": "code",
      "metadata": {
        "id": "bg2kkh9kE6UY",
        "outputId": "4a39e39d-f6a9-4f9a-9dbe-9276e890ac7b",
        "colab": {
          "base_uri": "https://localhost:8080/",
          "height": 34
        }
      },
      "source": [
        "df.shape"
      ],
      "execution_count": 50,
      "outputs": [
        {
          "output_type": "execute_result",
          "data": {
            "text/plain": [
              "(4888, 2)"
            ]
          },
          "metadata": {
            "tags": []
          },
          "execution_count": 50
        }
      ]
    },
    {
      "cell_type": "markdown",
      "metadata": {
        "id": "pPRKpW95VRXU"
      },
      "source": [
        "YESS!! That means we had a few duplicate data points, but now they are removed."
      ]
    },
    {
      "cell_type": "markdown",
      "metadata": {
        "id": "mMLbdpydVcBj"
      },
      "source": [
        "Let's see the length of each message."
      ]
    },
    {
      "cell_type": "code",
      "metadata": {
        "id": "T2alVtRUlPix",
        "outputId": "1382b207-879e-46ee-bc09-dadc9b0056ef",
        "colab": {
          "base_uri": "https://localhost:8080/",
          "height": 201
        }
      },
      "source": [
        "df['length'] = df['message'].apply(len)\n",
        "df.head() "
      ],
      "execution_count": 51,
      "outputs": [
        {
          "output_type": "execute_result",
          "data": {
            "text/html": [
              "<div>\n",
              "<style scoped>\n",
              "    .dataframe tbody tr th:only-of-type {\n",
              "        vertical-align: middle;\n",
              "    }\n",
              "\n",
              "    .dataframe tbody tr th {\n",
              "        vertical-align: top;\n",
              "    }\n",
              "\n",
              "    .dataframe thead th {\n",
              "        text-align: right;\n",
              "    }\n",
              "</style>\n",
              "<table border=\"1\" class=\"dataframe\">\n",
              "  <thead>\n",
              "    <tr style=\"text-align: right;\">\n",
              "      <th></th>\n",
              "      <th>label</th>\n",
              "      <th>message</th>\n",
              "      <th>length</th>\n",
              "    </tr>\n",
              "  </thead>\n",
              "  <tbody>\n",
              "    <tr>\n",
              "      <th>0</th>\n",
              "      <td>ham</td>\n",
              "      <td>Go until jurong point, crazy.. Available only ...</td>\n",
              "      <td>111</td>\n",
              "    </tr>\n",
              "    <tr>\n",
              "      <th>1</th>\n",
              "      <td>ham</td>\n",
              "      <td>Ok lar... Joking wif u oni...</td>\n",
              "      <td>29</td>\n",
              "    </tr>\n",
              "    <tr>\n",
              "      <th>3</th>\n",
              "      <td>ham</td>\n",
              "      <td>U dun say so early hor... U c already then say...</td>\n",
              "      <td>49</td>\n",
              "    </tr>\n",
              "    <tr>\n",
              "      <th>4</th>\n",
              "      <td>ham</td>\n",
              "      <td>Nah I don't think he goes to usf, he lives aro...</td>\n",
              "      <td>61</td>\n",
              "    </tr>\n",
              "    <tr>\n",
              "      <th>5</th>\n",
              "      <td>spam</td>\n",
              "      <td>FreeMsg Hey there darling it's been 3 week's n...</td>\n",
              "      <td>148</td>\n",
              "    </tr>\n",
              "  </tbody>\n",
              "</table>\n",
              "</div>"
            ],
            "text/plain": [
              "  label                                            message  length\n",
              "0   ham  Go until jurong point, crazy.. Available only ...     111\n",
              "1   ham                      Ok lar... Joking wif u oni...      29\n",
              "3   ham  U dun say so early hor... U c already then say...      49\n",
              "4   ham  Nah I don't think he goes to usf, he lives aro...      61\n",
              "5  spam  FreeMsg Hey there darling it's been 3 week's n...     148"
            ]
          },
          "metadata": {
            "tags": []
          },
          "execution_count": 51
        }
      ]
    },
    {
      "cell_type": "markdown",
      "metadata": {
        "id": "3pG6N9hzVpRW"
      },
      "source": [
        "Let's visualize it a little further using matplotlib."
      ]
    },
    {
      "cell_type": "code",
      "metadata": {
        "id": "5enUHPLBlXrA",
        "outputId": "e917e7ad-c2e9-461d-8d3b-a73de73f50ed",
        "colab": {
          "base_uri": "https://localhost:8080/",
          "height": 344
        }
      },
      "source": [
        "import matplotlib.pyplot as plt\n",
        "\n",
        "plt.rcParams['patch.force_edgecolor'] = True\n",
        "plt.style.use('ggplot')\n",
        "df.hist(column='length', by='label', bins=50, figsize=(11,5));"
      ],
      "execution_count": 52,
      "outputs": [
        {
          "output_type": "display_data",
          "data": {
            "image/png": "[encoded data removed]",
            "text/plain": [
              "<Figure size 792x360 with 2 Axes>"
            ]
          },
          "metadata": {
            "tags": []
          }
        }
      ]
    },
    {
      "cell_type": "markdown",
      "metadata": {
        "id": "GIVOGQDZV1xC"
      },
      "source": [
        "Now, let's do some basic statistical analysis of the attributes."
      ]
    },
    {
      "cell_type": "code",
      "metadata": {
        "id": "mf9A4re5lfYB",
        "outputId": "1e9e2fe4-98d0-44e7-9aef-240f3b403364",
        "colab": {
          "base_uri": "https://localhost:8080/",
          "height": 450
        }
      },
      "source": [
        "for i in df.columns:\n",
        "  print(\"Basic Statistics for Feature: {0}\".format(i))\n",
        "  print(df[i].describe())\n",
        "  print(\"==========================================\")"
      ],
      "execution_count": 53,
      "outputs": [
        {
          "output_type": "stream",
          "text": [
            "Basic Statistics for Feature: label\n",
            "count     4888\n",
            "unique       2\n",
            "top        ham\n",
            "freq      4322\n",
            "Name: label, dtype: object\n",
            "==========================================\n",
            "Basic Statistics for Feature: message\n",
            "count                        4888\n",
            "unique                       4888\n",
            "top       Check with nuerologist.\n",
            "freq                            1\n",
            "Name: message, dtype: object\n",
            "==========================================\n",
            "Basic Statistics for Feature: length\n",
            "count    4888.000000\n",
            "mean       77.338380\n",
            "std        56.812841\n",
            "min         3.000000\n",
            "25%        36.000000\n",
            "50%        59.000000\n",
            "75%       112.000000\n",
            "max       910.000000\n",
            "Name: length, dtype: float64\n",
            "==========================================\n"
          ],
          "name": "stdout"
        }
      ]
    },
    {
      "cell_type": "markdown",
      "metadata": {
        "id": "YNFf4UIbWOT-"
      },
      "source": [
        "##**2. NLTK**\n",
        "\n",
        "We'll use nltk stopwords to remove words which provide us no valuable information."
      ]
    },
    {
      "cell_type": "code",
      "metadata": {
        "id": "fzgF6L-1Fqut",
        "outputId": "6ffd7d4a-d1eb-423f-91eb-5f5943790072",
        "colab": {
          "base_uri": "https://localhost:8080/",
          "height": 69
        }
      },
      "source": [
        "import nltk \n",
        "from nltk.corpus import stopwords\n",
        "nltk.download('stopwords')"
      ],
      "execution_count": 54,
      "outputs": [
        {
          "output_type": "stream",
          "text": [
            "[nltk_data] Downloading package stopwords to /root/nltk_data...\n",
            "[nltk_data]   Package stopwords is already up-to-date!\n"
          ],
          "name": "stdout"
        },
        {
          "output_type": "execute_result",
          "data": {
            "text/plain": [
              "True"
            ]
          },
          "metadata": {
            "tags": []
          },
          "execution_count": 54
        }
      ]
    },
    {
      "cell_type": "markdown",
      "metadata": {
        "id": "owkW2mUnWa1r"
      },
      "source": [
        "Next, I'll write a helper function which will preprocess our texts."
      ]
    },
    {
      "cell_type": "code",
      "metadata": {
        "id": "iA5H2sLGFqq4"
      },
      "source": [
        "import string\n",
        "def process_text(text):\n",
        "  nopunc = [char for char in text if char not in string.punctuation]\n",
        "  nopunc = ''.join(nopunc)\n",
        "\n",
        "  clean_words = [word for word in nopunc.split() if word.lower() not in stopwords.words('english')]\n",
        "\n",
        "  return clean_words "
      ],
      "execution_count": 55,
      "outputs": []
    },
    {
      "cell_type": "markdown",
      "metadata": {
        "id": "K9_3EC-PWmb6"
      },
      "source": [
        "Let's apply this function to the complete dataset."
      ]
    },
    {
      "cell_type": "code",
      "metadata": {
        "id": "gSVMWzxtFqpQ",
        "outputId": "f3a60c7c-382a-4f3a-aef3-6e8e47618e2b",
        "colab": {
          "base_uri": "https://localhost:8080/",
          "height": 121
        }
      },
      "source": [
        "df['message'].head().apply(process_text)"
      ],
      "execution_count": 56,
      "outputs": [
        {
          "output_type": "execute_result",
          "data": {
            "text/plain": [
              "0    [Go, jurong, point, crazy, Available, bugis, n...\n",
              "1                       [Ok, lar, Joking, wif, u, oni]\n",
              "3        [U, dun, say, early, hor, U, c, already, say]\n",
              "4    [Nah, dont, think, goes, usf, lives, around, t...\n",
              "5    [FreeMsg, Hey, darling, 3, weeks, word, back, ...\n",
              "Name: message, dtype: object"
            ]
          },
          "metadata": {
            "tags": []
          },
          "execution_count": 56
        }
      ]
    },
    {
      "cell_type": "markdown",
      "metadata": {
        "id": "rJjeENzOTx4p"
      },
      "source": [
        "##**3. Bag Of Words**\n",
        "\n",
        "Let's convert all our text in the dataframe to a bag of words matrix."
      ]
    },
    {
      "cell_type": "code",
      "metadata": {
        "id": "xenv8WgkFqmC"
      },
      "source": [
        "from sklearn.feature_extraction.text import CountVectorizer\n",
        "message_bow = CountVectorizer(analyzer=process_text).fit_transform(df['message'])"
      ],
      "execution_count": 57,
      "outputs": []
    },
    {
      "cell_type": "markdown",
      "metadata": {
        "id": "ei9Py3KCW7JZ"
      },
      "source": [
        "Let's see how many unique tokens (without stopwords) are made by CountVectorizer."
      ]
    },
    {
      "cell_type": "code",
      "metadata": {
        "id": "PnZ9MDNZG-mi",
        "outputId": "a75034d0-fc8f-4654-fd22-77999703218e",
        "colab": {
          "base_uri": "https://localhost:8080/",
          "height": 34
        }
      },
      "source": [
        "message_bow.shape"
      ],
      "execution_count": 58,
      "outputs": [
        {
          "output_type": "execute_result",
          "data": {
            "text/plain": [
              "(4888, 10596)"
            ]
          },
          "metadata": {
            "tags": []
          },
          "execution_count": 58
        }
      ]
    },
    {
      "cell_type": "markdown",
      "metadata": {
        "id": "471-0LCyXE2g"
      },
      "source": [
        "Let's split the data into training and validation sets."
      ]
    },
    {
      "cell_type": "code",
      "metadata": {
        "id": "ngDBRAziG-tp"
      },
      "source": [
        "from sklearn.model_selection import train_test_split\n",
        "X_train, x_validation, Y_train, y_validation = train_test_split(message_bow,\n",
        "                                                                df['label'],\n",
        "                                                                test_size=0.2,\n",
        "                                                                stratify=df['label'],\n",
        "                                                                random_state=0) "
      ],
      "execution_count": 59,
      "outputs": []
    },
    {
      "cell_type": "markdown",
      "metadata": {
        "id": "LnEqEdCGXM8v"
      },
      "source": [
        "##**4. Machine Learning Algorithms**\n",
        "\n",
        "Let's import all the ML algorithms we'll be using in this notebook."
      ]
    },
    {
      "cell_type": "code",
      "metadata": {
        "id": "oQc5574nG5-U"
      },
      "source": [
        "from sklearn.linear_model import LogisticRegression\n",
        "from sklearn.svm import SVC\n",
        "from sklearn.naive_bayes import MultinomialNB\n",
        "from sklearn.tree import DecisionTreeClassifier\n",
        "from sklearn.neighbors import KNeighborsClassifier\n",
        "from sklearn.ensemble import RandomForestClassifier\n",
        "from sklearn.ensemble import ExtraTreesClassifier"
      ],
      "execution_count": 60,
      "outputs": []
    },
    {
      "cell_type": "markdown",
      "metadata": {
        "id": "5sbKJTa9XYu8"
      },
      "source": [
        "Here is something very interesting, I'll write a utility function which will input all the algorithms with the model parameters. We'll use ShuffleSplit and GridSearchCV for finding which ML algorithm (and their respective parameters) works best for this task."
      ]
    },
    {
      "cell_type": "code",
      "metadata": {
        "id": "qooEM2SoH4Pv",
        "outputId": "cfce0a23-e9ec-499e-d0fc-7a93ea45a9b7",
        "colab": {
          "base_uri": "https://localhost:8080/",
          "height": 263
        }
      },
      "source": [
        "from sklearn.model_selection import GridSearchCV, ShuffleSplit\n",
        "\n",
        "\n",
        "def find_best_model(X, y):\n",
        "    models = {\n",
        "        'Logistic_Regression': {\n",
        "            'model': LogisticRegression(solver='lbfgs', multi_class='auto'),\n",
        "            'parameters': {\n",
        "                'C': [1,5,10]\n",
        "               }\n",
        "        },\n",
        "        \n",
        "        'Decision_Tree': {\n",
        "            'model': DecisionTreeClassifier(splitter='best'),\n",
        "            'parameters': {\n",
        "                'criterion': ['gini', 'entropy'],\n",
        "                'max_depth': [5, 10]\n",
        "            }\n",
        "        },\n",
        "        \n",
        "        'Random_Forest': {\n",
        "            'model': RandomForestClassifier(criterion='gini'),\n",
        "            'parameters': {\n",
        "                'n_estimators': [10,15,20,50,100,200]\n",
        "            }\n",
        "        },\n",
        "        \n",
        "        'SVM': {\n",
        "            'model': SVC(gamma='auto'),\n",
        "            'parameters': {\n",
        "                'C': [1,10,20],\n",
        "                'kernel': ['rbf','linear']\n",
        "            }\n",
        "        },\n",
        "\n",
        "        'Multinomial_Naive_Bayes': {\n",
        "            'model': MultinomialNB(),\n",
        "            'parameters': {\n",
        "                'alpha': [0.5, 1, 2, 3, 5, 10]\n",
        "            }\n",
        "        },\n",
        "\n",
        "        'KNN': {\n",
        "            'model': KNeighborsClassifier(),\n",
        "            'parameters': {\n",
        "                'n_neighbors': [1, 2, 3, 4, 5, 6, 8, 10, 20]\n",
        "            }\n",
        "        },\n",
        "\n",
        "        'Extra_Tree': {\n",
        "            'model': ExtraTreesClassifier(),\n",
        "            'parameters': {\n",
        "                'n_estimators': [1, 5, 10, 20, 30, 40, 50, 60, 70, 100, 150, 200],\n",
        "                'max_depth': [1, 2, 5, 6, 7, 8, 10, 20, 30],\n",
        "                'criterion': ['gini', 'entropy']\n",
        "            }\n",
        "        }\n",
        "\n",
        "    }\n",
        "\n",
        "    scores = [] \n",
        "    cv_shuffle = ShuffleSplit(n_splits=7, test_size=0.20, random_state=0)\n",
        "        \n",
        "    for model_name, model_params in models.items():\n",
        "        gs = GridSearchCV(model_params['model'], model_params['parameters'], cv = cv_shuffle, return_train_score=False)\n",
        "        gs.fit(X, y)\n",
        "        scores.append({\n",
        "            'model': model_name,\n",
        "            'best_parameters': gs.best_params_,\n",
        "            'score': gs.best_score_\n",
        "        })\n",
        "        \n",
        "    return pd.DataFrame(scores, columns=['model','best_parameters','score'])\n",
        "\n",
        "find_best_model(X_train, Y_train)"
      ],
      "execution_count": 61,
      "outputs": [
        {
          "output_type": "execute_result",
          "data": {
            "text/html": [
              "<div>\n",
              "<style scoped>\n",
              "    .dataframe tbody tr th:only-of-type {\n",
              "        vertical-align: middle;\n",
              "    }\n",
              "\n",
              "    .dataframe tbody tr th {\n",
              "        vertical-align: top;\n",
              "    }\n",
              "\n",
              "    .dataframe thead th {\n",
              "        text-align: right;\n",
              "    }\n",
              "</style>\n",
              "<table border=\"1\" class=\"dataframe\">\n",
              "  <thead>\n",
              "    <tr style=\"text-align: right;\">\n",
              "      <th></th>\n",
              "      <th>model</th>\n",
              "      <th>best_parameters</th>\n",
              "      <th>score</th>\n",
              "    </tr>\n",
              "  </thead>\n",
              "  <tbody>\n",
              "    <tr>\n",
              "      <th>0</th>\n",
              "      <td>Logistic_Regression</td>\n",
              "      <td>{'C': 10}</td>\n",
              "      <td>0.972963</td>\n",
              "    </tr>\n",
              "    <tr>\n",
              "      <th>1</th>\n",
              "      <td>Decision_Tree</td>\n",
              "      <td>{'criterion': 'gini', 'max_depth': 10}</td>\n",
              "      <td>0.948484</td>\n",
              "    </tr>\n",
              "    <tr>\n",
              "      <th>2</th>\n",
              "      <td>Random_Forest</td>\n",
              "      <td>{'n_estimators': 200}</td>\n",
              "      <td>0.965108</td>\n",
              "    </tr>\n",
              "    <tr>\n",
              "      <th>3</th>\n",
              "      <td>SVM</td>\n",
              "      <td>{'C': 1, 'kernel': 'linear'}</td>\n",
              "      <td>0.975703</td>\n",
              "    </tr>\n",
              "    <tr>\n",
              "      <th>4</th>\n",
              "      <td>Multinomial_Naive_Bayes</td>\n",
              "      <td>{'alpha': 3}</td>\n",
              "      <td>0.972598</td>\n",
              "    </tr>\n",
              "    <tr>\n",
              "      <th>5</th>\n",
              "      <td>KNN</td>\n",
              "      <td>{'n_neighbors': 1}</td>\n",
              "      <td>0.933687</td>\n",
              "    </tr>\n",
              "    <tr>\n",
              "      <th>6</th>\n",
              "      <td>Extra_Tree</td>\n",
              "      <td>{'criterion': 'gini', 'max_depth': 30, 'n_esti...</td>\n",
              "      <td>0.936609</td>\n",
              "    </tr>\n",
              "  </tbody>\n",
              "</table>\n",
              "</div>"
            ],
            "text/plain": [
              "                     model  ...     score\n",
              "0      Logistic_Regression  ...  0.972963\n",
              "1            Decision_Tree  ...  0.948484\n",
              "2            Random_Forest  ...  0.965108\n",
              "3                      SVM  ...  0.975703\n",
              "4  Multinomial_Naive_Bayes  ...  0.972598\n",
              "5                      KNN  ...  0.933687\n",
              "6               Extra_Tree  ...  0.936609\n",
              "\n",
              "[7 rows x 3 columns]"
            ]
          },
          "metadata": {
            "tags": []
          },
          "execution_count": 61
        }
      ]
    },
    {
      "cell_type": "markdown",
      "metadata": {
        "id": "NkE2fqlZX5DY"
      },
      "source": [
        "The results are quite interesting, I thought the Multinomial Naive Bayes Algorithm will be the best for this task, but Support Vector Machine is the best as it has the highest score. So we'll create 2 final classifiers and evaluate each classifiers metrics. "
      ]
    },
    {
      "cell_type": "markdown",
      "metadata": {
        "id": "JsUGjWIojtap"
      },
      "source": [
        "##**5. Support Vector Machine**"
      ]
    },
    {
      "cell_type": "code",
      "metadata": {
        "id": "1mJpOub9KAiF",
        "outputId": "089f81c4-232b-43fc-e4fb-1e4b3c30d7c7",
        "colab": {
          "base_uri": "https://localhost:8080/",
          "height": 86
        }
      },
      "source": [
        "# Creating Support Vector Machine Model\n",
        "classifier = SVC(C=1.0, kernel='linear')\n",
        "classifier.fit(X_train, Y_train)"
      ],
      "execution_count": 62,
      "outputs": [
        {
          "output_type": "execute_result",
          "data": {
            "text/plain": [
              "SVC(C=1.0, break_ties=False, cache_size=200, class_weight=None, coef0=0.0,\n",
              "    decision_function_shape='ovr', degree=3, gamma='scale', kernel='linear',\n",
              "    max_iter=-1, probability=False, random_state=None, shrinking=True,\n",
              "    tol=0.001, verbose=False)"
            ]
          },
          "metadata": {
            "tags": []
          },
          "execution_count": 62
        }
      ]
    },
    {
      "cell_type": "markdown",
      "metadata": {
        "id": "rUpUYB0sYdWZ"
      },
      "source": [
        "##**6. Model Metrics (SVM)**\n",
        "Now since our model is trained, let's print out the model metrics which will define how good our model is actually doing."
      ]
    },
    {
      "cell_type": "code",
      "metadata": {
        "id": "vUjrkccxNw9T",
        "outputId": "5e55c8ea-a018-41f9-e09b-035f88931677",
        "colab": {
          "base_uri": "https://localhost:8080/",
          "height": 277
        }
      },
      "source": [
        "from sklearn.metrics import confusion_matrix,classification_report, accuracy_score\n",
        "\n",
        "# On training data\n",
        "y_pred = classifier.predict(X_train)\n",
        "print(classification_report(Y_train, y_pred))\n",
        "print()\n",
        "print(\"Confusion Matrix: \\n\", confusion_matrix(Y_train, y_pred))\n",
        "print()\n",
        "print(\"Accuracy: \", accuracy_score(Y_train, y_pred))"
      ],
      "execution_count": 63,
      "outputs": [
        {
          "output_type": "stream",
          "text": [
            "              precision    recall  f1-score   support\n",
            "\n",
            "         ham       1.00      1.00      1.00      3457\n",
            "        spam       1.00      1.00      1.00       453\n",
            "\n",
            "    accuracy                           1.00      3910\n",
            "   macro avg       1.00      1.00      1.00      3910\n",
            "weighted avg       1.00      1.00      1.00      3910\n",
            "\n",
            "\n",
            "Confusion Matrix: \n",
            " [[3457    0]\n",
            " [   0  453]]\n",
            "\n",
            "Accuracy:  1.0\n"
          ],
          "name": "stdout"
        }
      ]
    },
    {
      "cell_type": "code",
      "metadata": {
        "id": "4QtZywSsOr6X",
        "outputId": "9e8652f7-684a-4fda-e846-d3f8760a1ce6",
        "colab": {
          "base_uri": "https://localhost:8080/",
          "height": 277
        }
      },
      "source": [
        "from sklearn.metrics import confusion_matrix, classification_report, accuracy_score\n",
        "\n",
        "# On validation data\n",
        "y_pred = classifier.predict(x_validation)\n",
        "print(classification_report(y_validation, y_pred))\n",
        "print()\n",
        "print(\"Confusion Matrix: \\n\", confusion_matrix(y_validation, y_pred))\n",
        "print()\n",
        "print(\"Accuracy: \", accuracy_score(y_validation, y_pred)) "
      ],
      "execution_count": 64,
      "outputs": [
        {
          "output_type": "stream",
          "text": [
            "              precision    recall  f1-score   support\n",
            "\n",
            "         ham       0.98      1.00      0.99       865\n",
            "        spam       0.99      0.83      0.90       113\n",
            "\n",
            "    accuracy                           0.98       978\n",
            "   macro avg       0.98      0.92      0.95       978\n",
            "weighted avg       0.98      0.98      0.98       978\n",
            "\n",
            "\n",
            "Confusion Matrix: \n",
            " [[864   1]\n",
            " [ 19  94]]\n",
            "\n",
            "Accuracy:  0.9795501022494888\n"
          ],
          "name": "stdout"
        }
      ]
    },
    {
      "cell_type": "markdown",
      "metadata": {
        "id": "pXkx7lkfjNbp"
      },
      "source": [
        "##**7. Multinomial Naive Bayes**"
      ]
    },
    {
      "cell_type": "code",
      "metadata": {
        "id": "XxBUu4PvjBlx",
        "outputId": "fa9c287c-e4c9-41e1-8931-09741ba7b5aa",
        "colab": {
          "base_uri": "https://localhost:8080/",
          "height": 34
        }
      },
      "source": [
        "# Creating Multinomial Naive Bayes Model\n",
        "classifier2 = MultinomialNB(alpha=3.0)\n",
        "classifier2.fit(X_train, Y_train)"
      ],
      "execution_count": null,
      "outputs": [
        {
          "output_type": "execute_result",
          "data": {
            "text/plain": [
              "MultinomialNB(alpha=3.0, class_prior=None, fit_prior=True)"
            ]
          },
          "metadata": {
            "tags": []
          },
          "execution_count": 67
        }
      ]
    },
    {
      "cell_type": "markdown",
      "metadata": {
        "id": "TREqNfpyj7FU"
      },
      "source": [
        "##**8. Model Metrics (Multinomial NB)**"
      ]
    },
    {
      "cell_type": "code",
      "metadata": {
        "id": "e4inyQ_AjRdA",
        "outputId": "ab2946f0-e6d2-46f5-f81f-a2053ae2377d",
        "colab": {
          "base_uri": "https://localhost:8080/",
          "height": 277
        }
      },
      "source": [
        "# On training data\n",
        "y_pred = classifier2.predict(X_train)\n",
        "print(classification_report(Y_train, y_pred))\n",
        "print()\n",
        "print(\"Confusion Matrix: \\n\", confusion_matrix(Y_train, y_pred))\n",
        "print()\n",
        "print(\"Accuracy: \", accuracy_score(Y_train, y_pred))"
      ],
      "execution_count": null,
      "outputs": [
        {
          "output_type": "stream",
          "text": [
            "              precision    recall  f1-score   support\n",
            "\n",
            "         ham       0.99      1.00      0.99      3457\n",
            "        spam       0.99      0.91      0.95       453\n",
            "\n",
            "    accuracy                           0.99      3910\n",
            "   macro avg       0.99      0.96      0.97      3910\n",
            "weighted avg       0.99      0.99      0.99      3910\n",
            "\n",
            "\n",
            "Confusion Matrix: \n",
            " [[3453    4]\n",
            " [  39  414]]\n",
            "\n",
            "Accuracy:  0.9890025575447571\n"
          ],
          "name": "stdout"
        }
      ]
    },
    {
      "cell_type": "code",
      "metadata": {
        "id": "nUM-RtsqjRhx",
        "outputId": "b59f9bdb-6442-4543-c0eb-9e0c84b5fc74",
        "colab": {
          "base_uri": "https://localhost:8080/",
          "height": 277
        }
      },
      "source": [
        "# On validation data\n",
        "y_pred = classifier2.predict(x_validation)\n",
        "print(classification_report(y_validation, y_pred))\n",
        "print()\n",
        "print(\"Confusion Matrix: \\n\", confusion_matrix(y_validation, y_pred))\n",
        "print()\n",
        "print(\"Accuracy: \", accuracy_score(y_validation, y_pred)) "
      ],
      "execution_count": null,
      "outputs": [
        {
          "output_type": "stream",
          "text": [
            "              precision    recall  f1-score   support\n",
            "\n",
            "         ham       0.98      0.98      0.98       865\n",
            "        spam       0.87      0.88      0.88       113\n",
            "\n",
            "    accuracy                           0.97       978\n",
            "   macro avg       0.93      0.93      0.93       978\n",
            "weighted avg       0.97      0.97      0.97       978\n",
            "\n",
            "\n",
            "Confusion Matrix: \n",
            " [[850  15]\n",
            " [ 13 100]]\n",
            "\n",
            "Accuracy:  0.9713701431492843\n"
          ],
          "name": "stdout"
        }
      ]
    },
    {
      "cell_type": "markdown",
      "metadata": {
        "id": "HOHOC2Kck3V6"
      },
      "source": [
        "It is clear that SVM performs best for this task, so we'll load it into a pickle file and download it for deployment."
      ]
    },
    {
      "cell_type": "markdown",
      "metadata": {
        "id": "JnJx--TDdbzn"
      },
      "source": [
        "##**9. Saving Model**\n",
        "\n",
        "We'll save the model using a pickel and load it in our local system."
      ]
    },
    {
      "cell_type": "code",
      "metadata": {
        "id": "HFR4qPWSPo3U"
      },
      "source": [
        "import pickle\n",
        "\n",
        "# Creating a pickle file for the classifier\n",
        "filename = 'spam-detection-svm.pkl'\n",
        "pickle.dump(classifier, open(filename, 'wb')) "
      ],
      "execution_count": 65,
      "outputs": []
    },
    {
      "cell_type": "markdown",
      "metadata": {
        "id": "fY7ytIgBfoVw"
      },
      "source": [
        "##**10. Summary and Conclusion**\n",
        "\n",
        "- We used Bag of Words to form a word token matrix.\n",
        "- We used 7 different Machine Learning Algorithms.\n",
        "- Implemented GridSearchCV and ShuffleSplit to find best fitting parameters.\n",
        "- We also evaluated model metrics to check performance\n",
        "- SVM performed the best.\n",
        "- Below is a clean table with scores obtained in Hyperparameter findings."
      ]
    },
    {
      "cell_type": "code",
      "metadata": {
        "id": "fdvSZ9N_ejLC",
        "outputId": "12c1e852-7369-42f9-c86a-c435498a037f",
        "colab": {
          "base_uri": "https://localhost:8080/",
          "height": 207
        }
      },
      "source": [
        "from prettytable import PrettyTable\n",
        "\n",
        "x = PrettyTable()\n",
        "x.field_names = [\"Model Used\", \"Accuracy\"]\n",
        "\n",
        "x.add_row([\"Logistic Regression\", 0.9729])\n",
        "x.add_row([\"Decision Tree Classifier\", 0.9484])\n",
        "x.add_row([\"Random Forest Classifier\", 0.9651])\n",
        "x.add_row([\"Support Vector Machine\", 0.9757])\n",
        "x.add_row([\"Multinomial Naive Bayes\", 0.9725])\n",
        "x.add_row([\"KnearestNeighbor\", 0.9336])\n",
        "x.add_row([\"Extra Tree Classifier\", 0.9366])\n",
        "\n",
        "print(x)"
      ],
      "execution_count": 66,
      "outputs": [
        {
          "output_type": "stream",
          "text": [
            "+--------------------------+----------+\n",
            "|        Model Used        | Accuracy |\n",
            "+--------------------------+----------+\n",
            "|   Logistic Regression    |  0.9729  |\n",
            "| Decision Tree Classifier |  0.9486  |\n",
            "| Random Forest Classifier |  0.9638  |\n",
            "|  Support Vector Machine  |  0.9757  |\n",
            "| Multinomial Naive Bayes  |  0.9725  |\n",
            "|     KnearestNeighbor     |  0.9336  |\n",
            "|  Extra Tree Classifier   |  0.9369  |\n",
            "+--------------------------+----------+\n"
          ],
          "name": "stdout"
        }
      ]
    }
  ]
}